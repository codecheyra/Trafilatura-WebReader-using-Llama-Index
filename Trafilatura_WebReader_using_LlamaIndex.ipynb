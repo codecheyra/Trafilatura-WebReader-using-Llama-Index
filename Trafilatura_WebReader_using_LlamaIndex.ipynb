{
  "cells": [
    {
      "cell_type": "code",
      "execution_count": null,
      "id": "8c3bfc32-4bef-4c56-91ac-2b5c1154907b",
      "metadata": {
        "id": "8c3bfc32-4bef-4c56-91ac-2b5c1154907b"
      },
      "outputs": [],
      "source": [
        "url=\"https://woocommerce.github.io/woocommerce-rest-api-docs/\""
      ]
    },
    {
      "cell_type": "code",
      "execution_count": null,
      "id": "f5c22fa0-b38f-4f5b-9e27-ae5c071aa50f",
      "metadata": {
        "id": "f5c22fa0-b38f-4f5b-9e27-ae5c071aa50f"
      },
      "outputs": [],
      "source": [
        "query=[\"Give me endpoints and parameters inorder to retrieve a product using WooCommerce API.\", \"Give me endpoints and parameters inorder to create new customer using WooCommerce API.\"]"
      ]
    },
    {
      "cell_type": "code",
      "execution_count": null,
      "id": "5cd177f3-433b-4909-9296-c2de8fc3312d",
      "metadata": {
        "id": "5cd177f3-433b-4909-9296-c2de8fc3312d"
      },
      "outputs": [],
      "source": [
        "!pip install TrafilaturaWebReader"
      ]
    },
    {
      "cell_type": "code",
      "execution_count": null,
      "id": "e471016f-e1fd-49a6-a9d5-834e0cd47d7e",
      "metadata": {
        "id": "e471016f-e1fd-49a6-a9d5-834e0cd47d7e"
      },
      "outputs": [],
      "source": [
        "from llama_index.readers.web import TrafilaturaWebReader\n",
        "documents = TrafilaturaWebReader().load_data(\n",
        "    [url])\n"
      ]
    },
    {
      "cell_type": "code",
      "execution_count": null,
      "id": "186095b7-a30d-4678-a77b-aadcb5cc80e1",
      "metadata": {
        "id": "186095b7-a30d-4678-a77b-aadcb5cc80e1"
      },
      "outputs": [],
      "source": [
        "########################################### Indexing using llamaIndex ###########################################"
      ]
    },
    {
      "cell_type": "code",
      "execution_count": null,
      "id": "c38e85cc-5c65-4fe2-813b-6d2dac6eece1",
      "metadata": {
        "scrolled": true,
        "id": "c38e85cc-5c65-4fe2-813b-6d2dac6eece1",
        "outputId": "7056a722-2f16-4b56-8af1-ed0857713da1"
      },
      "outputs": [
        {
          "name": "stdout",
          "output_type": "stream",
          "text": [
            "Requirement already satisfied: llama-index-embeddings-huggingface in c:\\users\\khush\\pycharmprojects\\markdownproject\\.venv\\lib\\site-packages (0.2.1)\n",
            "Requirement already satisfied: huggingface-hub>=0.19.0 in c:\\users\\khush\\appdata\\local\\programs\\python\\python312\\lib\\site-packages (from huggingface-hub[inference]>=0.19.0->llama-index-embeddings-huggingface) (0.23.0)\n",
            "Requirement already satisfied: llama-index-core<0.11.0,>=0.10.1 in c:\\users\\khush\\pycharmprojects\\markdownproject\\.venv\\lib\\site-packages (from llama-index-embeddings-huggingface) (0.10.43)\n",
            "Requirement already satisfied: sentence-transformers<3.0.0,>=2.6.1 in c:\\users\\khush\\pycharmprojects\\markdownproject\\.venv\\lib\\site-packages (from llama-index-embeddings-huggingface) (2.7.0)\n",
            "Requirement already satisfied: filelock in c:\\users\\khush\\appdata\\local\\programs\\python\\python312\\lib\\site-packages (from huggingface-hub>=0.19.0->huggingface-hub[inference]>=0.19.0->llama-index-embeddings-huggingface) (3.14.0)\n",
            "Requirement already satisfied: fsspec>=2023.5.0 in c:\\users\\khush\\appdata\\local\\programs\\python\\python312\\lib\\site-packages (from huggingface-hub>=0.19.0->huggingface-hub[inference]>=0.19.0->llama-index-embeddings-huggingface) (2024.3.1)\n",
            "Requirement already satisfied: packaging>=20.9 in c:\\users\\khush\\appdata\\local\\programs\\python\\python312\\lib\\site-packages (from huggingface-hub>=0.19.0->huggingface-hub[inference]>=0.19.0->llama-index-embeddings-huggingface) (24.0)\n",
            "Requirement already satisfied: pyyaml>=5.1 in c:\\users\\khush\\appdata\\local\\programs\\python\\python312\\lib\\site-packages (from huggingface-hub>=0.19.0->huggingface-hub[inference]>=0.19.0->llama-index-embeddings-huggingface) (6.0.1)\n",
            "Requirement already satisfied: requests in c:\\users\\khush\\appdata\\local\\programs\\python\\python312\\lib\\site-packages (from huggingface-hub>=0.19.0->huggingface-hub[inference]>=0.19.0->llama-index-embeddings-huggingface) (2.31.0)\n",
            "Requirement already satisfied: tqdm>=4.42.1 in c:\\users\\khush\\appdata\\local\\programs\\python\\python312\\lib\\site-packages (from huggingface-hub>=0.19.0->huggingface-hub[inference]>=0.19.0->llama-index-embeddings-huggingface) (4.66.4)\n",
            "Requirement already satisfied: typing-extensions>=3.7.4.3 in c:\\users\\khush\\appdata\\local\\programs\\python\\python312\\lib\\site-packages (from huggingface-hub>=0.19.0->huggingface-hub[inference]>=0.19.0->llama-index-embeddings-huggingface) (4.11.0)\n",
            "Requirement already satisfied: aiohttp in c:\\users\\khush\\pycharmprojects\\markdownproject\\.venv\\lib\\site-packages (from huggingface-hub[inference]>=0.19.0->llama-index-embeddings-huggingface) (3.9.5)\n",
            "Requirement already satisfied: minijinja>=1.0 in c:\\users\\khush\\pycharmprojects\\markdownproject\\.venv\\lib\\site-packages (from huggingface-hub[inference]>=0.19.0->llama-index-embeddings-huggingface) (2.0.1)\n",
            "Requirement already satisfied: SQLAlchemy>=1.4.49 in c:\\users\\khush\\pycharmprojects\\markdownproject\\.venv\\lib\\site-packages (from SQLAlchemy[asyncio]>=1.4.49->llama-index-core<0.11.0,>=0.10.1->llama-index-embeddings-huggingface) (2.0.30)\n",
            "Requirement already satisfied: dataclasses-json in c:\\users\\khush\\pycharmprojects\\markdownproject\\.venv\\lib\\site-packages (from llama-index-core<0.11.0,>=0.10.1->llama-index-embeddings-huggingface) (0.6.6)\n",
            "Requirement already satisfied: deprecated>=1.2.9.3 in c:\\users\\khush\\pycharmprojects\\markdownproject\\.venv\\lib\\site-packages (from llama-index-core<0.11.0,>=0.10.1->llama-index-embeddings-huggingface) (1.2.14)\n",
            "Requirement already satisfied: dirtyjson<2.0.0,>=1.0.8 in c:\\users\\khush\\pycharmprojects\\markdownproject\\.venv\\lib\\site-packages (from llama-index-core<0.11.0,>=0.10.1->llama-index-embeddings-huggingface) (1.0.8)\n",
            "Requirement already satisfied: httpx in c:\\users\\khush\\pycharmprojects\\markdownproject\\.venv\\lib\\site-packages (from llama-index-core<0.11.0,>=0.10.1->llama-index-embeddings-huggingface) (0.27.0)\n",
            "Requirement already satisfied: llamaindex-py-client<0.2.0,>=0.1.18 in c:\\users\\khush\\pycharmprojects\\markdownproject\\.venv\\lib\\site-packages (from llama-index-core<0.11.0,>=0.10.1->llama-index-embeddings-huggingface) (0.1.19)\n",
            "Requirement already satisfied: nest-asyncio<2.0.0,>=1.5.8 in c:\\users\\khush\\pycharmprojects\\markdownproject\\.venv\\lib\\site-packages (from llama-index-core<0.11.0,>=0.10.1->llama-index-embeddings-huggingface) (1.6.0)\n",
            "Requirement already satisfied: networkx>=3.0 in c:\\users\\khush\\appdata\\local\\programs\\python\\python312\\lib\\site-packages (from llama-index-core<0.11.0,>=0.10.1->llama-index-embeddings-huggingface) (3.3)\n",
            "Requirement already satisfied: nltk<4.0.0,>=3.8.1 in c:\\users\\khush\\pycharmprojects\\markdownproject\\.venv\\lib\\site-packages (from llama-index-core<0.11.0,>=0.10.1->llama-index-embeddings-huggingface) (3.8.1)\n",
            "Requirement already satisfied: numpy in c:\\users\\khush\\appdata\\local\\programs\\python\\python312\\lib\\site-packages (from llama-index-core<0.11.0,>=0.10.1->llama-index-embeddings-huggingface) (1.26.4)\n",
            "Requirement already satisfied: openai>=1.1.0 in c:\\users\\khush\\pycharmprojects\\markdownproject\\.venv\\lib\\site-packages (from llama-index-core<0.11.0,>=0.10.1->llama-index-embeddings-huggingface) (1.31.0)\n",
            "Requirement already satisfied: pandas in c:\\users\\khush\\pycharmprojects\\markdownproject\\.venv\\lib\\site-packages (from llama-index-core<0.11.0,>=0.10.1->llama-index-embeddings-huggingface) (2.2.2)\n",
            "Requirement already satisfied: pillow>=9.0.0 in c:\\users\\khush\\appdata\\local\\programs\\python\\python312\\lib\\site-packages (from llama-index-core<0.11.0,>=0.10.1->llama-index-embeddings-huggingface) (10.3.0)\n",
            "Requirement already satisfied: tenacity<9.0.0,>=8.2.0 in c:\\users\\khush\\pycharmprojects\\markdownproject\\.venv\\lib\\site-packages (from llama-index-core<0.11.0,>=0.10.1->llama-index-embeddings-huggingface) (8.3.0)\n",
            "Requirement already satisfied: tiktoken>=0.3.3 in c:\\users\\khush\\appdata\\local\\programs\\python\\python312\\lib\\site-packages (from llama-index-core<0.11.0,>=0.10.1->llama-index-embeddings-huggingface) (0.6.0)\n",
            "Requirement already satisfied: typing-inspect>=0.8.0 in c:\\users\\khush\\pycharmprojects\\markdownproject\\.venv\\lib\\site-packages (from llama-index-core<0.11.0,>=0.10.1->llama-index-embeddings-huggingface) (0.9.0)\n",
            "Requirement already satisfied: wrapt in c:\\users\\khush\\pycharmprojects\\markdownproject\\.venv\\lib\\site-packages (from llama-index-core<0.11.0,>=0.10.1->llama-index-embeddings-huggingface) (1.16.0)\n",
            "Requirement already satisfied: transformers<5.0.0,>=4.34.0 in c:\\users\\khush\\appdata\\local\\programs\\python\\python312\\lib\\site-packages (from sentence-transformers<3.0.0,>=2.6.1->llama-index-embeddings-huggingface) (4.40.2)\n",
            "Requirement already satisfied: torch>=1.11.0 in c:\\users\\khush\\appdata\\local\\programs\\python\\python312\\lib\\site-packages (from sentence-transformers<3.0.0,>=2.6.1->llama-index-embeddings-huggingface) (2.3.0)\n",
            "Requirement already satisfied: scikit-learn in c:\\users\\khush\\pycharmprojects\\markdownproject\\.venv\\lib\\site-packages (from sentence-transformers<3.0.0,>=2.6.1->llama-index-embeddings-huggingface) (1.5.0)\n",
            "Requirement already satisfied: scipy in c:\\users\\khush\\pycharmprojects\\markdownproject\\.venv\\lib\\site-packages (from sentence-transformers<3.0.0,>=2.6.1->llama-index-embeddings-huggingface) (1.13.1)\n",
            "Requirement already satisfied: aiosignal>=1.1.2 in c:\\users\\khush\\pycharmprojects\\markdownproject\\.venv\\lib\\site-packages (from aiohttp->huggingface-hub[inference]>=0.19.0->llama-index-embeddings-huggingface) (1.3.1)\n",
            "Requirement already satisfied: attrs>=17.3.0 in c:\\users\\khush\\pycharmprojects\\markdownproject\\.venv\\lib\\site-packages (from aiohttp->huggingface-hub[inference]>=0.19.0->llama-index-embeddings-huggingface) (23.2.0)\n",
            "Requirement already satisfied: frozenlist>=1.1.1 in c:\\users\\khush\\pycharmprojects\\markdownproject\\.venv\\lib\\site-packages (from aiohttp->huggingface-hub[inference]>=0.19.0->llama-index-embeddings-huggingface) (1.4.1)\n",
            "Requirement already satisfied: multidict<7.0,>=4.5 in c:\\users\\khush\\pycharmprojects\\markdownproject\\.venv\\lib\\site-packages (from aiohttp->huggingface-hub[inference]>=0.19.0->llama-index-embeddings-huggingface) (6.0.5)\n",
            "Requirement already satisfied: yarl<2.0,>=1.0 in c:\\users\\khush\\pycharmprojects\\markdownproject\\.venv\\lib\\site-packages (from aiohttp->huggingface-hub[inference]>=0.19.0->llama-index-embeddings-huggingface) (1.9.4)\n",
            "Requirement already satisfied: pydantic>=1.10 in c:\\users\\khush\\pycharmprojects\\markdownproject\\.venv\\lib\\site-packages (from llamaindex-py-client<0.2.0,>=0.1.18->llama-index-core<0.11.0,>=0.10.1->llama-index-embeddings-huggingface) (2.7.3)\n",
            "Requirement already satisfied: anyio in c:\\users\\khush\\pycharmprojects\\markdownproject\\.venv\\lib\\site-packages (from httpx->llama-index-core<0.11.0,>=0.10.1->llama-index-embeddings-huggingface) (4.4.0)\n",
            "Requirement already satisfied: certifi in c:\\users\\khush\\appdata\\local\\programs\\python\\python312\\lib\\site-packages (from httpx->llama-index-core<0.11.0,>=0.10.1->llama-index-embeddings-huggingface) (2024.2.2)\n",
            "Requirement already satisfied: httpcore==1.* in c:\\users\\khush\\pycharmprojects\\markdownproject\\.venv\\lib\\site-packages (from httpx->llama-index-core<0.11.0,>=0.10.1->llama-index-embeddings-huggingface) (1.0.5)\n",
            "Requirement already satisfied: idna in c:\\users\\khush\\appdata\\local\\programs\\python\\python312\\lib\\site-packages (from httpx->llama-index-core<0.11.0,>=0.10.1->llama-index-embeddings-huggingface) (3.7)\n",
            "Requirement already satisfied: sniffio in c:\\users\\khush\\pycharmprojects\\markdownproject\\.venv\\lib\\site-packages (from httpx->llama-index-core<0.11.0,>=0.10.1->llama-index-embeddings-huggingface) (1.3.1)\n",
            "Requirement already satisfied: h11<0.15,>=0.13 in c:\\users\\khush\\pycharmprojects\\markdownproject\\.venv\\lib\\site-packages (from httpcore==1.*->httpx->llama-index-core<0.11.0,>=0.10.1->llama-index-embeddings-huggingface) (0.14.0)\n",
            "Requirement already satisfied: click in c:\\users\\khush\\pycharmprojects\\markdownproject\\.venv\\lib\\site-packages (from nltk<4.0.0,>=3.8.1->llama-index-core<0.11.0,>=0.10.1->llama-index-embeddings-huggingface) (8.1.7)\n",
            "Requirement already satisfied: joblib in c:\\users\\khush\\pycharmprojects\\markdownproject\\.venv\\lib\\site-packages (from nltk<4.0.0,>=3.8.1->llama-index-core<0.11.0,>=0.10.1->llama-index-embeddings-huggingface) (1.4.2)\n",
            "Requirement already satisfied: regex>=2021.8.3 in c:\\users\\khush\\appdata\\local\\programs\\python\\python312\\lib\\site-packages (from nltk<4.0.0,>=3.8.1->llama-index-core<0.11.0,>=0.10.1->llama-index-embeddings-huggingface) (2024.5.10)\n",
            "Requirement already satisfied: distro<2,>=1.7.0 in c:\\users\\khush\\pycharmprojects\\markdownproject\\.venv\\lib\\site-packages (from openai>=1.1.0->llama-index-core<0.11.0,>=0.10.1->llama-index-embeddings-huggingface) (1.9.0)\n",
            "Requirement already satisfied: charset-normalizer<4,>=2 in c:\\users\\khush\\appdata\\local\\programs\\python\\python312\\lib\\site-packages (from requests->huggingface-hub>=0.19.0->huggingface-hub[inference]>=0.19.0->llama-index-embeddings-huggingface) (3.3.2)\n",
            "Requirement already satisfied: urllib3<3,>=1.21.1 in c:\\users\\khush\\appdata\\local\\programs\\python\\python312\\lib\\site-packages (from requests->huggingface-hub>=0.19.0->huggingface-hub[inference]>=0.19.0->llama-index-embeddings-huggingface) (2.2.1)\n",
            "Requirement already satisfied: greenlet!=0.4.17 in c:\\users\\khush\\pycharmprojects\\markdownproject\\.venv\\lib\\site-packages (from SQLAlchemy>=1.4.49->SQLAlchemy[asyncio]>=1.4.49->llama-index-core<0.11.0,>=0.10.1->llama-index-embeddings-huggingface) (3.0.3)\n",
            "Requirement already satisfied: sympy in c:\\users\\khush\\appdata\\local\\programs\\python\\python312\\lib\\site-packages (from torch>=1.11.0->sentence-transformers<3.0.0,>=2.6.1->llama-index-embeddings-huggingface) (1.12)\n",
            "Requirement already satisfied: jinja2 in c:\\users\\khush\\appdata\\local\\programs\\python\\python312\\lib\\site-packages (from torch>=1.11.0->sentence-transformers<3.0.0,>=2.6.1->llama-index-embeddings-huggingface) (3.1.4)\n",
            "Requirement already satisfied: mkl<=2021.4.0,>=2021.1.1 in c:\\users\\khush\\appdata\\local\\programs\\python\\python312\\lib\\site-packages (from torch>=1.11.0->sentence-transformers<3.0.0,>=2.6.1->llama-index-embeddings-huggingface) (2021.4.0)\n",
            "Requirement already satisfied: colorama in c:\\users\\khush\\appdata\\local\\programs\\python\\python312\\lib\\site-packages (from tqdm>=4.42.1->huggingface-hub>=0.19.0->huggingface-hub[inference]>=0.19.0->llama-index-embeddings-huggingface) (0.4.6)\n",
            "Requirement already satisfied: tokenizers<0.20,>=0.19 in c:\\users\\khush\\appdata\\local\\programs\\python\\python312\\lib\\site-packages (from transformers<5.0.0,>=4.34.0->sentence-transformers<3.0.0,>=2.6.1->llama-index-embeddings-huggingface) (0.19.1)\n",
            "Requirement already satisfied: safetensors>=0.4.1 in c:\\users\\khush\\appdata\\local\\programs\\python\\python312\\lib\\site-packages (from transformers<5.0.0,>=4.34.0->sentence-transformers<3.0.0,>=2.6.1->llama-index-embeddings-huggingface) (0.4.3)\n",
            "Requirement already satisfied: mypy-extensions>=0.3.0 in c:\\users\\khush\\pycharmprojects\\markdownproject\\.venv\\lib\\site-packages (from typing-inspect>=0.8.0->llama-index-core<0.11.0,>=0.10.1->llama-index-embeddings-huggingface) (1.0.0)\n",
            "Requirement already satisfied: marshmallow<4.0.0,>=3.18.0 in c:\\users\\khush\\pycharmprojects\\markdownproject\\.venv\\lib\\site-packages (from dataclasses-json->llama-index-core<0.11.0,>=0.10.1->llama-index-embeddings-huggingface) (3.21.2)\n",
            "Requirement already satisfied: python-dateutil>=2.8.2 in c:\\users\\khush\\pycharmprojects\\markdownproject\\.venv\\lib\\site-packages (from pandas->llama-index-core<0.11.0,>=0.10.1->llama-index-embeddings-huggingface) (2.9.0.post0)\n",
            "Requirement already satisfied: pytz>=2020.1 in c:\\users\\khush\\pycharmprojects\\markdownproject\\.venv\\lib\\site-packages (from pandas->llama-index-core<0.11.0,>=0.10.1->llama-index-embeddings-huggingface) (2024.1)\n",
            "Requirement already satisfied: tzdata>=2022.7 in c:\\users\\khush\\pycharmprojects\\markdownproject\\.venv\\lib\\site-packages (from pandas->llama-index-core<0.11.0,>=0.10.1->llama-index-embeddings-huggingface) (2024.1)\n",
            "Requirement already satisfied: threadpoolctl>=3.1.0 in c:\\users\\khush\\pycharmprojects\\markdownproject\\.venv\\lib\\site-packages (from scikit-learn->sentence-transformers<3.0.0,>=2.6.1->llama-index-embeddings-huggingface) (3.5.0)\n",
            "Requirement already satisfied: intel-openmp==2021.* in c:\\users\\khush\\appdata\\local\\programs\\python\\python312\\lib\\site-packages (from mkl<=2021.4.0,>=2021.1.1->torch>=1.11.0->sentence-transformers<3.0.0,>=2.6.1->llama-index-embeddings-huggingface) (2021.4.0)\n",
            "Requirement already satisfied: tbb==2021.* in c:\\users\\khush\\appdata\\local\\programs\\python\\python312\\lib\\site-packages (from mkl<=2021.4.0,>=2021.1.1->torch>=1.11.0->sentence-transformers<3.0.0,>=2.6.1->llama-index-embeddings-huggingface) (2021.12.0)\n",
            "Requirement already satisfied: annotated-types>=0.4.0 in c:\\users\\khush\\pycharmprojects\\markdownproject\\.venv\\lib\\site-packages (from pydantic>=1.10->llamaindex-py-client<0.2.0,>=0.1.18->llama-index-core<0.11.0,>=0.10.1->llama-index-embeddings-huggingface) (0.7.0)\n",
            "Requirement already satisfied: pydantic-core==2.18.4 in c:\\users\\khush\\pycharmprojects\\markdownproject\\.venv\\lib\\site-packages (from pydantic>=1.10->llamaindex-py-client<0.2.0,>=0.1.18->llama-index-core<0.11.0,>=0.10.1->llama-index-embeddings-huggingface) (2.18.4)\n",
            "Requirement already satisfied: six>=1.5 in c:\\users\\khush\\pycharmprojects\\markdownproject\\.venv\\lib\\site-packages (from python-dateutil>=2.8.2->pandas->llama-index-core<0.11.0,>=0.10.1->llama-index-embeddings-huggingface) (1.16.0)\n",
            "Requirement already satisfied: MarkupSafe>=2.0 in c:\\users\\khush\\appdata\\local\\programs\\python\\python312\\lib\\site-packages (from jinja2->torch>=1.11.0->sentence-transformers<3.0.0,>=2.6.1->llama-index-embeddings-huggingface) (2.1.5)\n",
            "Requirement already satisfied: mpmath>=0.19 in c:\\users\\khush\\appdata\\local\\programs\\python\\python312\\lib\\site-packages (from sympy->torch>=1.11.0->sentence-transformers<3.0.0,>=2.6.1->llama-index-embeddings-huggingface) (1.3.0)\n"
          ]
        }
      ],
      "source": [
        "!pip install llama-index-embeddings-huggingface"
      ]
    },
    {
      "cell_type": "code",
      "execution_count": null,
      "id": "797f61f7-a2bb-4ce7-93f9-a50db5699219",
      "metadata": {
        "id": "797f61f7-a2bb-4ce7-93f9-a50db5699219"
      },
      "outputs": [],
      "source": [
        "!ollama run llama3"
      ]
    },
    {
      "cell_type": "code",
      "execution_count": null,
      "id": "48e21eb2-ca6a-4747-85b9-da4c2f0a5b04",
      "metadata": {
        "id": "48e21eb2-ca6a-4747-85b9-da4c2f0a5b04"
      },
      "outputs": [],
      "source": [
        "from llama_index.core import SummaryIndex\n",
        "\n",
        "index = SummaryIndex.from_documents(documents)"
      ]
    },
    {
      "cell_type": "code",
      "execution_count": null,
      "id": "35f68ea9-cb7f-466b-893e-08b9f496695f",
      "metadata": {
        "id": "35f68ea9-cb7f-466b-893e-08b9f496695f",
        "outputId": "776ed26c-0798-47f0-8367-ee567f17810f",
        "colab": {
          "referenced_widgets": [
            "8ee6f6cfab3c4c7ba5a7d5c9f8a6afef",
            "baaed202a8c24b008a48d768bff65177",
            "013daa79f8ca41a5a43d2a5a8bf873a0",
            "dcdb858b11fb4cb3a2c00981f125a987",
            "95e21a13863e4c34aaffff356c393167",
            "e30f1d0f88494716928a6edfeaa1cdf8",
            "e23e5aa23a8c43ea8b83bc70de3e3f3f",
            "cf953aff41b34f9d80ff75fe472ae0b7",
            "d168ded2b35243e4a504ee87a16930b6",
            "713cfaac3bcc48a5930e9ce1025a36d3",
            "61b96210029045e2a33186383ff06a0c",
            "001779b0f401401aa66d26caba3d6bbf",
            "c89047e2db6f4ff89478fab10fa2d84d",
            "b9d6da7ac16e411aa94e0b56cd71d81a",
            "a444f14d47234a97a052fa0f50455127",
            "b18f9ae0329342c4b8ddee5b2f5b2258",
            "dbbcac09c11b403f84699d4370c568ba",
            "4bf296a7a4b94ab6a1d77fcfd407db58",
            "ab7accb7c30a4b24be0c0ba1cb4cee96",
            "35791ad2e09b4d638cae73f4a85ba19d",
            "61feee4605c44472900c1a808fda3b95",
            "69ac504985e4460da21d226af33b9466",
            "348666c4c5034c2c9bd41cbcf5e41ae3",
            "d45e2a49e20d4545ae8bbc42d42cb665",
            "d46dca5890a5439193e96f9a67c410f2",
            "542ab5d0a47f45809bcdb84dd2e23093",
            "dc3005ea44774bc883bb43c99e26755c",
            "da72f486892f414d9f9ebe4d18f0c404",
            "757bd2f216fb4e12a522416104018043"
          ]
        }
      },
      "outputs": [
        {
          "name": "stdout",
          "output_type": "stream",
          "text": [
            "INFO:sentence_transformers.SentenceTransformer:Load pretrained SentenceTransformer: BAAI/bge-base-en-v1.5\n",
            "Load pretrained SentenceTransformer: BAAI/bge-base-en-v1.5\n",
            "Load pretrained SentenceTransformer: BAAI/bge-base-en-v1.5\n"
          ]
        },
        {
          "name": "stderr",
          "output_type": "stream",
          "text": [
            "C:\\Users\\Khush\\AppData\\Local\\Programs\\Python\\Python312\\Lib\\site-packages\\huggingface_hub\\file_download.py:1132: FutureWarning: `resume_download` is deprecated and will be removed in version 1.0.0. Downloads always resume when possible. If you want to force a new download, use `force_download=True`.\n",
            "  warnings.warn(\n"
          ]
        },
        {
          "name": "stdout",
          "output_type": "stream",
          "text": [
            "INFO:sentence_transformers.SentenceTransformer:2 prompts are loaded, with the keys: ['query', 'text']\n",
            "2 prompts are loaded, with the keys: ['query', 'text']\n",
            "2 prompts are loaded, with the keys: ['query', 'text']\n"
          ]
        },
        {
          "data": {
            "application/vnd.jupyter.widget-view+json": {
              "model_id": "8ee6f6cfab3c4c7ba5a7d5c9f8a6afef",
              "version_major": 2,
              "version_minor": 0
            },
            "text/plain": [
              "Batches:   0%|          | 0/1 [00:00<?, ?it/s]"
            ]
          },
          "metadata": {},
          "output_type": "display_data"
        },
        {
          "data": {
            "application/vnd.jupyter.widget-view+json": {
              "model_id": "baaed202a8c24b008a48d768bff65177",
              "version_major": 2,
              "version_minor": 0
            },
            "text/plain": [
              "Batches:   0%|          | 0/1 [00:00<?, ?it/s]"
            ]
          },
          "metadata": {},
          "output_type": "display_data"
        },
        {
          "data": {
            "application/vnd.jupyter.widget-view+json": {
              "model_id": "013daa79f8ca41a5a43d2a5a8bf873a0",
              "version_major": 2,
              "version_minor": 0
            },
            "text/plain": [
              "Batches:   0%|          | 0/1 [00:00<?, ?it/s]"
            ]
          },
          "metadata": {},
          "output_type": "display_data"
        },
        {
          "data": {
            "application/vnd.jupyter.widget-view+json": {
              "model_id": "dcdb858b11fb4cb3a2c00981f125a987",
              "version_major": 2,
              "version_minor": 0
            },
            "text/plain": [
              "Batches:   0%|          | 0/1 [00:00<?, ?it/s]"
            ]
          },
          "metadata": {},
          "output_type": "display_data"
        },
        {
          "data": {
            "application/vnd.jupyter.widget-view+json": {
              "model_id": "95e21a13863e4c34aaffff356c393167",
              "version_major": 2,
              "version_minor": 0
            },
            "text/plain": [
              "Batches:   0%|          | 0/1 [00:00<?, ?it/s]"
            ]
          },
          "metadata": {},
          "output_type": "display_data"
        },
        {
          "data": {
            "application/vnd.jupyter.widget-view+json": {
              "model_id": "e30f1d0f88494716928a6edfeaa1cdf8",
              "version_major": 2,
              "version_minor": 0
            },
            "text/plain": [
              "Batches:   0%|          | 0/1 [00:00<?, ?it/s]"
            ]
          },
          "metadata": {},
          "output_type": "display_data"
        },
        {
          "data": {
            "application/vnd.jupyter.widget-view+json": {
              "model_id": "e23e5aa23a8c43ea8b83bc70de3e3f3f",
              "version_major": 2,
              "version_minor": 0
            },
            "text/plain": [
              "Batches:   0%|          | 0/1 [00:00<?, ?it/s]"
            ]
          },
          "metadata": {},
          "output_type": "display_data"
        },
        {
          "data": {
            "application/vnd.jupyter.widget-view+json": {
              "model_id": "cf953aff41b34f9d80ff75fe472ae0b7",
              "version_major": 2,
              "version_minor": 0
            },
            "text/plain": [
              "Batches:   0%|          | 0/1 [00:00<?, ?it/s]"
            ]
          },
          "metadata": {},
          "output_type": "display_data"
        },
        {
          "data": {
            "application/vnd.jupyter.widget-view+json": {
              "model_id": "d168ded2b35243e4a504ee87a16930b6",
              "version_major": 2,
              "version_minor": 0
            },
            "text/plain": [
              "Batches:   0%|          | 0/1 [00:00<?, ?it/s]"
            ]
          },
          "metadata": {},
          "output_type": "display_data"
        },
        {
          "data": {
            "application/vnd.jupyter.widget-view+json": {
              "model_id": "713cfaac3bcc48a5930e9ce1025a36d3",
              "version_major": 2,
              "version_minor": 0
            },
            "text/plain": [
              "Batches:   0%|          | 0/1 [00:00<?, ?it/s]"
            ]
          },
          "metadata": {},
          "output_type": "display_data"
        },
        {
          "data": {
            "application/vnd.jupyter.widget-view+json": {
              "model_id": "61b96210029045e2a33186383ff06a0c",
              "version_major": 2,
              "version_minor": 0
            },
            "text/plain": [
              "Batches:   0%|          | 0/1 [00:00<?, ?it/s]"
            ]
          },
          "metadata": {},
          "output_type": "display_data"
        },
        {
          "data": {
            "application/vnd.jupyter.widget-view+json": {
              "model_id": "001779b0f401401aa66d26caba3d6bbf",
              "version_major": 2,
              "version_minor": 0
            },
            "text/plain": [
              "Batches:   0%|          | 0/1 [00:00<?, ?it/s]"
            ]
          },
          "metadata": {},
          "output_type": "display_data"
        },
        {
          "data": {
            "application/vnd.jupyter.widget-view+json": {
              "model_id": "c89047e2db6f4ff89478fab10fa2d84d",
              "version_major": 2,
              "version_minor": 0
            },
            "text/plain": [
              "Batches:   0%|          | 0/1 [00:00<?, ?it/s]"
            ]
          },
          "metadata": {},
          "output_type": "display_data"
        },
        {
          "data": {
            "application/vnd.jupyter.widget-view+json": {
              "model_id": "b9d6da7ac16e411aa94e0b56cd71d81a",
              "version_major": 2,
              "version_minor": 0
            },
            "text/plain": [
              "Batches:   0%|          | 0/1 [00:00<?, ?it/s]"
            ]
          },
          "metadata": {},
          "output_type": "display_data"
        },
        {
          "data": {
            "application/vnd.jupyter.widget-view+json": {
              "model_id": "a444f14d47234a97a052fa0f50455127",
              "version_major": 2,
              "version_minor": 0
            },
            "text/plain": [
              "Batches:   0%|          | 0/1 [00:00<?, ?it/s]"
            ]
          },
          "metadata": {},
          "output_type": "display_data"
        },
        {
          "data": {
            "application/vnd.jupyter.widget-view+json": {
              "model_id": "b18f9ae0329342c4b8ddee5b2f5b2258",
              "version_major": 2,
              "version_minor": 0
            },
            "text/plain": [
              "Batches:   0%|          | 0/1 [00:00<?, ?it/s]"
            ]
          },
          "metadata": {},
          "output_type": "display_data"
        },
        {
          "data": {
            "application/vnd.jupyter.widget-view+json": {
              "model_id": "dbbcac09c11b403f84699d4370c568ba",
              "version_major": 2,
              "version_minor": 0
            },
            "text/plain": [
              "Batches:   0%|          | 0/1 [00:00<?, ?it/s]"
            ]
          },
          "metadata": {},
          "output_type": "display_data"
        },
        {
          "data": {
            "application/vnd.jupyter.widget-view+json": {
              "model_id": "4bf296a7a4b94ab6a1d77fcfd407db58",
              "version_major": 2,
              "version_minor": 0
            },
            "text/plain": [
              "Batches:   0%|          | 0/1 [00:00<?, ?it/s]"
            ]
          },
          "metadata": {},
          "output_type": "display_data"
        },
        {
          "data": {
            "application/vnd.jupyter.widget-view+json": {
              "model_id": "ab7accb7c30a4b24be0c0ba1cb4cee96",
              "version_major": 2,
              "version_minor": 0
            },
            "text/plain": [
              "Batches:   0%|          | 0/1 [00:00<?, ?it/s]"
            ]
          },
          "metadata": {},
          "output_type": "display_data"
        },
        {
          "data": {
            "application/vnd.jupyter.widget-view+json": {
              "model_id": "35791ad2e09b4d638cae73f4a85ba19d",
              "version_major": 2,
              "version_minor": 0
            },
            "text/plain": [
              "Batches:   0%|          | 0/1 [00:00<?, ?it/s]"
            ]
          },
          "metadata": {},
          "output_type": "display_data"
        },
        {
          "data": {
            "application/vnd.jupyter.widget-view+json": {
              "model_id": "61feee4605c44472900c1a808fda3b95",
              "version_major": 2,
              "version_minor": 0
            },
            "text/plain": [
              "Batches:   0%|          | 0/1 [00:00<?, ?it/s]"
            ]
          },
          "metadata": {},
          "output_type": "display_data"
        },
        {
          "data": {
            "application/vnd.jupyter.widget-view+json": {
              "model_id": "69ac504985e4460da21d226af33b9466",
              "version_major": 2,
              "version_minor": 0
            },
            "text/plain": [
              "Batches:   0%|          | 0/1 [00:00<?, ?it/s]"
            ]
          },
          "metadata": {},
          "output_type": "display_data"
        },
        {
          "data": {
            "application/vnd.jupyter.widget-view+json": {
              "model_id": "348666c4c5034c2c9bd41cbcf5e41ae3",
              "version_major": 2,
              "version_minor": 0
            },
            "text/plain": [
              "Batches:   0%|          | 0/1 [00:00<?, ?it/s]"
            ]
          },
          "metadata": {},
          "output_type": "display_data"
        },
        {
          "data": {
            "application/vnd.jupyter.widget-view+json": {
              "model_id": "d45e2a49e20d4545ae8bbc42d42cb665",
              "version_major": 2,
              "version_minor": 0
            },
            "text/plain": [
              "Batches:   0%|          | 0/1 [00:00<?, ?it/s]"
            ]
          },
          "metadata": {},
          "output_type": "display_data"
        },
        {
          "data": {
            "application/vnd.jupyter.widget-view+json": {
              "model_id": "d46dca5890a5439193e96f9a67c410f2",
              "version_major": 2,
              "version_minor": 0
            },
            "text/plain": [
              "Batches:   0%|          | 0/1 [00:00<?, ?it/s]"
            ]
          },
          "metadata": {},
          "output_type": "display_data"
        },
        {
          "data": {
            "application/vnd.jupyter.widget-view+json": {
              "model_id": "542ab5d0a47f45809bcdb84dd2e23093",
              "version_major": 2,
              "version_minor": 0
            },
            "text/plain": [
              "Batches:   0%|          | 0/1 [00:00<?, ?it/s]"
            ]
          },
          "metadata": {},
          "output_type": "display_data"
        },
        {
          "data": {
            "application/vnd.jupyter.widget-view+json": {
              "model_id": "dc3005ea44774bc883bb43c99e26755c",
              "version_major": 2,
              "version_minor": 0
            },
            "text/plain": [
              "Batches:   0%|          | 0/1 [00:00<?, ?it/s]"
            ]
          },
          "metadata": {},
          "output_type": "display_data"
        },
        {
          "data": {
            "application/vnd.jupyter.widget-view+json": {
              "model_id": "da72f486892f414d9f9ebe4d18f0c404",
              "version_major": 2,
              "version_minor": 0
            },
            "text/plain": [
              "Batches:   0%|          | 0/1 [00:00<?, ?it/s]"
            ]
          },
          "metadata": {},
          "output_type": "display_data"
        },
        {
          "name": "stdout",
          "output_type": "stream",
          "text": [
            "INFO:httpx:HTTP Request: POST http://localhost:11434/api/chat \"HTTP/1.1 200 OK\"\n",
            "HTTP Request: POST http://localhost:11434/api/chat \"HTTP/1.1 200 OK\"\n",
            "HTTP Request: POST http://localhost:11434/api/chat \"HTTP/1.1 200 OK\"\n"
          ]
        },
        {
          "data": {
            "application/vnd.jupyter.widget-view+json": {
              "model_id": "757bd2f216fb4e12a522416104018043",
              "version_major": 2,
              "version_minor": 0
            },
            "text/plain": [
              "Batches:   0%|          | 0/1 [00:00<?, ?it/s]"
            ]
          },
          "metadata": {},
          "output_type": "display_data"
        },
        {
          "name": "stdout",
          "output_type": "stream",
          "text": [
            "INFO:httpx:HTTP Request: POST http://localhost:11434/api/chat \"HTTP/1.1 200 OK\"\n",
            "HTTP Request: POST http://localhost:11434/api/chat \"HTTP/1.1 200 OK\"\n",
            "HTTP Request: POST http://localhost:11434/api/chat \"HTTP/1.1 200 OK\"\n",
            "Question: Give me endpoints and parameters inorder to retrieve a product using WooCommerce API.\n",
            "Answer: To retrieve a product using the WooCommerce API, you can use the following endpoint:\n",
            "\n",
            "`/wp-json/wc/v3/products/<id>`\n",
            "\n",
            "Where `<id>` is the ID of the product you want to retrieve.\n",
            "\n",
            "You will need to pass your consumer key and consumer secret as part of the HTTP request. You can do this using a tool like `curl`, or by using a library such as WooCommerce's PHP wrapper, which provides methods for making API requests.\n",
            "\n",
            "For example, using `curl`:\n",
            "\n",
            "`curl https://example.com/wp-json/wc/v3/products/794 -u consumer_key:consumer_secret`\n",
            "\n",
            "Or, using the WooCommerce PHP wrapper:\n",
            "\n",
            "```php\n",
            "$woocommerce->get('products/794');\n",
            "```\n",
            "\n",
            "In both cases, replace `https://example.com` with your actual WooCommerce API URL, and `794` with the ID of the product you want to retrieve.\n",
            "Question: Give me endpoints and parameters inorder to create new customer using WooCommerce API.\n",
            "Answer: To create a new customer using WooCommerce API, you can use the following endpoint and parameters:\n",
            "\n",
            "Endpoint: `/wp-json/wc/v3/customers`\n",
            "\n",
            "Parameters:\n",
            "\n",
            "* `customer`: The customer data in JSON format. You can provide the following properties:\n",
            "\t+ `first_name`\n",
            "\t+ `last_name`\n",
            "\t+ `email`\n",
            "\t+ `password` (optional)\n",
            "\t+ `billing`: The billing address data, including:\n",
            "\t\t- `first_name`\n",
            "\t\t- `last_name`\n",
            "\t\t- `company`\n",
            "\t\t- `address_1`\n",
            "\t\t- `address_2`\n",
            "\t\t- `city`\n",
            "\t\t- `state`\n",
            "\t\t- `postcode`\n",
            "\t\t- `country`\n",
            "\t+ `shipping`: The shipping address data, including:\n",
            "\t\t- `first_name`\n",
            "\t\t- `last_name`\n",
            "\t\t- `company`\n",
            "\t\t- `address_1`\n",
            "\t\t- `address_2`\n",
            "\t\t- `city`\n",
            "\t\t- `state`\n",
            "\t\t- `postcode`\n",
            "\t\t- `country`\n",
            "\n",
            "Example JSON request body:\n",
            "```json\n",
            "{\n",
            "  \"customer\": {\n",
            "    \"first_name\": \"John\",\n",
            "    \"last_name\": \"Doe\",\n",
            "    \"email\": \"john.doe@example.com\",\n",
            "    \"password\": \"weak_password\",\n",
            "    \"billing\": {\n",
            "      \"first_name\": \"John\",\n",
            "      \"last_name\": \"Doe\",\n",
            "      \"company\": \"\",\n",
            "      \"address_1\": \"969 Market\",\n",
            "      \"address_2\": \"\",\n",
            "      \"city\": \"San Francisco\",\n",
            "      \"state\": \"CA\",\n",
            "      \"postcode\": \"94103\",\n",
            "      \"country\": \"US\"\n",
            "    },\n",
            "    \"shipping\": {\n",
            "      \"first_name\": \"John\",\n",
            "      \"last_name\": \"Doe\",\n",
            "      \"company\": \"\",\n",
            "      \"address_1\": \"969 Market\",\n",
            "      \"address_2\": \"\",\n",
            "      \"city\": \"San Francisco\",\n",
            "      \"state\": \"CA\",\n",
            "      \"postcode\": \"94103\",\n",
            "      \"country\": \"US\"\n",
            "    }\n",
            "  }\n",
            "}\n",
            "```\n",
            "You can use the `curl` command to send a POST request with the JSON data:\n",
            "```bash\n",
            "curl -X POST \\\n",
            "  https://example.com/wp-json/wc/v3/customers \\\n",
            "  -H 'Content-Type: application/json' \\\n",
            "  -d '{\"customer\": {\"first_name\": \"John\", ...}}'\n",
            "```\n",
            "Replace `https://example.com` with your WooCommerce API endpoint URL.\n"
          ]
        }
      ],
      "source": [
        "from llama_index.core import VectorStoreIndex, SimpleDirectoryReader, Settings\n",
        "from llama_index.embeddings.huggingface import HuggingFaceEmbedding\n",
        "from llama_index.llms.ollama import Ollama\n",
        "\n",
        "#documents = SimpleDirectoryReader(\"data\").load_data()\n",
        "\n",
        "from llama_index.core import SimpleDirectoryReader, VectorStoreIndex\n",
        "\n",
        "\n",
        "# bge-base embedding model\n",
        "Settings.embed_model = HuggingFaceEmbedding(model_name=\"BAAI/bge-base-en-v1.5\")\n",
        "\n",
        "# ollama\n",
        "Settings.llm = Ollama(model=\"llama3\", request_timeout=360.0)\n",
        "\n",
        "index = VectorStoreIndex.from_documents(\n",
        "    documents,\n",
        ")\n",
        "\n",
        "query_engine = index.as_query_engine()\n",
        "QA = {}  # Initialize an empty dictionary to store Q&A pairs\n",
        "\n",
        "for question in query:\n",
        "    answer = query_engine.query(question)  # Get the answer for the current question\n",
        "    QA[question] = answer  # Add the question-answer pair to the dictionary\n",
        "\n",
        "for question in QA:\n",
        "    print(\"Question:\", question)\n",
        "    print(\"Answer:\", QA[question])"
      ]
    }
  ],
  "metadata": {
    "kernelspec": {
      "display_name": "Python 3 (ipykernel)",
      "language": "python",
      "name": "python3"
    },
    "language_info": {
      "codemirror_mode": {
        "name": "ipython",
        "version": 3
      },
      "file_extension": ".py",
      "mimetype": "text/x-python",
      "name": "python",
      "nbconvert_exporter": "python",
      "pygments_lexer": "ipython3",
      "version": "3.12.3"
    },
    "colab": {
      "provenance": []
    }
  },
  "nbformat": 4,
  "nbformat_minor": 5
}